{
  "nbformat": 4,
  "nbformat_minor": 0,
  "metadata": {
    "colab": {
      "provenance": [],
      "gpuType": "T4"
    },
    "kernelspec": {
      "name": "python3",
      "display_name": "Python 3"
    },
    "language_info": {
      "name": "python"
    },
    "accelerator": "GPU"
  },
  "cells": [
    {
      "cell_type": "code",
      "execution_count": null,
      "metadata": {
        "id": "kyxehOcYk-L2"
      },
      "outputs": [],
      "source": [
        "import tensorflow as tf\n",
        "import numpy as np"
      ]
    },
    {
      "cell_type": "code",
      "source": [
        "import pandas as pd"
      ],
      "metadata": {
        "id": "RbfciwbklBRQ"
      },
      "execution_count": null,
      "outputs": []
    },
    {
      "cell_type": "code",
      "source": [
        "df=pd.read_csv('/content/b5.csv')"
      ],
      "metadata": {
        "id": "F8EFLEMRlBTv"
      },
      "execution_count": null,
      "outputs": []
    },
    {
      "cell_type": "code",
      "source": [
        "df"
      ],
      "metadata": {
        "colab": {
          "base_uri": "https://localhost:8080/",
          "height": 423
        },
        "id": "X_2Dt9xJlBWp",
        "outputId": "63e94541-5a20-4cb7-910b-828708bd9480"
      },
      "execution_count": null,
      "outputs": [
        {
          "output_type": "execute_result",
          "data": {
            "text/plain": [
              "            x     y       u       v       p   totime\n",
              "0         0.4  10.0  1.0001 -0.0006  0.0135  252.999\n",
              "1         1.0  10.0  1.0002 -0.0014  0.0134  252.999\n",
              "2         1.6  10.0  1.0005 -0.0023  0.0132  252.999\n",
              "3         2.2  10.0  1.0008 -0.0031  0.0129  252.999\n",
              "4         2.8  10.0  1.0011 -0.0039  0.0125  252.999\n",
              "...       ...   ...     ...     ...     ...      ...\n",
              "1029345  39.2  30.0  1.0138  0.0005  0.0064  256.999\n",
              "1029346  39.4  30.0  1.0138  0.0005  0.0064  256.999\n",
              "1029347  39.6  30.0  1.0138  0.0005  0.0064  256.999\n",
              "1029348  39.8  30.0  1.0139  0.0004  0.0065  256.999\n",
              "1029349  40.0  30.0  0.5070  0.0004  0.0032  256.999\n",
              "\n",
              "[1029350 rows x 6 columns]"
            ],
            "text/html": [
              "\n",
              "  <div id=\"df-372b5f46-b140-485d-a449-949b47712e7d\" class=\"colab-df-container\">\n",
              "    <div>\n",
              "<style scoped>\n",
              "    .dataframe tbody tr th:only-of-type {\n",
              "        vertical-align: middle;\n",
              "    }\n",
              "\n",
              "    .dataframe tbody tr th {\n",
              "        vertical-align: top;\n",
              "    }\n",
              "\n",
              "    .dataframe thead th {\n",
              "        text-align: right;\n",
              "    }\n",
              "</style>\n",
              "<table border=\"1\" class=\"dataframe\">\n",
              "  <thead>\n",
              "    <tr style=\"text-align: right;\">\n",
              "      <th></th>\n",
              "      <th>x</th>\n",
              "      <th>y</th>\n",
              "      <th>u</th>\n",
              "      <th>v</th>\n",
              "      <th>p</th>\n",
              "      <th>totime</th>\n",
              "    </tr>\n",
              "  </thead>\n",
              "  <tbody>\n",
              "    <tr>\n",
              "      <th>0</th>\n",
              "      <td>0.4</td>\n",
              "      <td>10.0</td>\n",
              "      <td>1.0001</td>\n",
              "      <td>-0.0006</td>\n",
              "      <td>0.0135</td>\n",
              "      <td>252.999</td>\n",
              "    </tr>\n",
              "    <tr>\n",
              "      <th>1</th>\n",
              "      <td>1.0</td>\n",
              "      <td>10.0</td>\n",
              "      <td>1.0002</td>\n",
              "      <td>-0.0014</td>\n",
              "      <td>0.0134</td>\n",
              "      <td>252.999</td>\n",
              "    </tr>\n",
              "    <tr>\n",
              "      <th>2</th>\n",
              "      <td>1.6</td>\n",
              "      <td>10.0</td>\n",
              "      <td>1.0005</td>\n",
              "      <td>-0.0023</td>\n",
              "      <td>0.0132</td>\n",
              "      <td>252.999</td>\n",
              "    </tr>\n",
              "    <tr>\n",
              "      <th>3</th>\n",
              "      <td>2.2</td>\n",
              "      <td>10.0</td>\n",
              "      <td>1.0008</td>\n",
              "      <td>-0.0031</td>\n",
              "      <td>0.0129</td>\n",
              "      <td>252.999</td>\n",
              "    </tr>\n",
              "    <tr>\n",
              "      <th>4</th>\n",
              "      <td>2.8</td>\n",
              "      <td>10.0</td>\n",
              "      <td>1.0011</td>\n",
              "      <td>-0.0039</td>\n",
              "      <td>0.0125</td>\n",
              "      <td>252.999</td>\n",
              "    </tr>\n",
              "    <tr>\n",
              "      <th>...</th>\n",
              "      <td>...</td>\n",
              "      <td>...</td>\n",
              "      <td>...</td>\n",
              "      <td>...</td>\n",
              "      <td>...</td>\n",
              "      <td>...</td>\n",
              "    </tr>\n",
              "    <tr>\n",
              "      <th>1029345</th>\n",
              "      <td>39.2</td>\n",
              "      <td>30.0</td>\n",
              "      <td>1.0138</td>\n",
              "      <td>0.0005</td>\n",
              "      <td>0.0064</td>\n",
              "      <td>256.999</td>\n",
              "    </tr>\n",
              "    <tr>\n",
              "      <th>1029346</th>\n",
              "      <td>39.4</td>\n",
              "      <td>30.0</td>\n",
              "      <td>1.0138</td>\n",
              "      <td>0.0005</td>\n",
              "      <td>0.0064</td>\n",
              "      <td>256.999</td>\n",
              "    </tr>\n",
              "    <tr>\n",
              "      <th>1029347</th>\n",
              "      <td>39.6</td>\n",
              "      <td>30.0</td>\n",
              "      <td>1.0138</td>\n",
              "      <td>0.0005</td>\n",
              "      <td>0.0064</td>\n",
              "      <td>256.999</td>\n",
              "    </tr>\n",
              "    <tr>\n",
              "      <th>1029348</th>\n",
              "      <td>39.8</td>\n",
              "      <td>30.0</td>\n",
              "      <td>1.0139</td>\n",
              "      <td>0.0004</td>\n",
              "      <td>0.0065</td>\n",
              "      <td>256.999</td>\n",
              "    </tr>\n",
              "    <tr>\n",
              "      <th>1029349</th>\n",
              "      <td>40.0</td>\n",
              "      <td>30.0</td>\n",
              "      <td>0.5070</td>\n",
              "      <td>0.0004</td>\n",
              "      <td>0.0032</td>\n",
              "      <td>256.999</td>\n",
              "    </tr>\n",
              "  </tbody>\n",
              "</table>\n",
              "<p>1029350 rows × 6 columns</p>\n",
              "</div>\n",
              "    <div class=\"colab-df-buttons\">\n",
              "\n",
              "  <div class=\"colab-df-container\">\n",
              "    <button class=\"colab-df-convert\" onclick=\"convertToInteractive('df-372b5f46-b140-485d-a449-949b47712e7d')\"\n",
              "            title=\"Convert this dataframe to an interactive table.\"\n",
              "            style=\"display:none;\">\n",
              "\n",
              "  <svg xmlns=\"http://www.w3.org/2000/svg\" height=\"24px\" viewBox=\"0 -960 960 960\">\n",
              "    <path d=\"M120-120v-720h720v720H120Zm60-500h600v-160H180v160Zm220 220h160v-160H400v160Zm0 220h160v-160H400v160ZM180-400h160v-160H180v160Zm440 0h160v-160H620v160ZM180-180h160v-160H180v160Zm440 0h160v-160H620v160Z\"/>\n",
              "  </svg>\n",
              "    </button>\n",
              "\n",
              "  <style>\n",
              "    .colab-df-container {\n",
              "      display:flex;\n",
              "      gap: 12px;\n",
              "    }\n",
              "\n",
              "    .colab-df-convert {\n",
              "      background-color: #E8F0FE;\n",
              "      border: none;\n",
              "      border-radius: 50%;\n",
              "      cursor: pointer;\n",
              "      display: none;\n",
              "      fill: #1967D2;\n",
              "      height: 32px;\n",
              "      padding: 0 0 0 0;\n",
              "      width: 32px;\n",
              "    }\n",
              "\n",
              "    .colab-df-convert:hover {\n",
              "      background-color: #E2EBFA;\n",
              "      box-shadow: 0px 1px 2px rgba(60, 64, 67, 0.3), 0px 1px 3px 1px rgba(60, 64, 67, 0.15);\n",
              "      fill: #174EA6;\n",
              "    }\n",
              "\n",
              "    .colab-df-buttons div {\n",
              "      margin-bottom: 4px;\n",
              "    }\n",
              "\n",
              "    [theme=dark] .colab-df-convert {\n",
              "      background-color: #3B4455;\n",
              "      fill: #D2E3FC;\n",
              "    }\n",
              "\n",
              "    [theme=dark] .colab-df-convert:hover {\n",
              "      background-color: #434B5C;\n",
              "      box-shadow: 0px 1px 3px 1px rgba(0, 0, 0, 0.15);\n",
              "      filter: drop-shadow(0px 1px 2px rgba(0, 0, 0, 0.3));\n",
              "      fill: #FFFFFF;\n",
              "    }\n",
              "  </style>\n",
              "\n",
              "    <script>\n",
              "      const buttonEl =\n",
              "        document.querySelector('#df-372b5f46-b140-485d-a449-949b47712e7d button.colab-df-convert');\n",
              "      buttonEl.style.display =\n",
              "        google.colab.kernel.accessAllowed ? 'block' : 'none';\n",
              "\n",
              "      async function convertToInteractive(key) {\n",
              "        const element = document.querySelector('#df-372b5f46-b140-485d-a449-949b47712e7d');\n",
              "        const dataTable =\n",
              "          await google.colab.kernel.invokeFunction('convertToInteractive',\n",
              "                                                    [key], {});\n",
              "        if (!dataTable) return;\n",
              "\n",
              "        const docLinkHtml = 'Like what you see? Visit the ' +\n",
              "          '<a target=\"_blank\" href=https://colab.research.google.com/notebooks/data_table.ipynb>data table notebook</a>'\n",
              "          + ' to learn more about interactive tables.';\n",
              "        element.innerHTML = '';\n",
              "        dataTable['output_type'] = 'display_data';\n",
              "        await google.colab.output.renderOutput(dataTable, element);\n",
              "        const docLink = document.createElement('div');\n",
              "        docLink.innerHTML = docLinkHtml;\n",
              "        element.appendChild(docLink);\n",
              "      }\n",
              "    </script>\n",
              "  </div>\n",
              "\n",
              "\n",
              "<div id=\"df-0f426476-5504-453c-818e-7d08b1bab4d9\">\n",
              "  <button class=\"colab-df-quickchart\" onclick=\"quickchart('df-0f426476-5504-453c-818e-7d08b1bab4d9')\"\n",
              "            title=\"Suggest charts\"\n",
              "            style=\"display:none;\">\n",
              "\n",
              "<svg xmlns=\"http://www.w3.org/2000/svg\" height=\"24px\"viewBox=\"0 0 24 24\"\n",
              "     width=\"24px\">\n",
              "    <g>\n",
              "        <path d=\"M19 3H5c-1.1 0-2 .9-2 2v14c0 1.1.9 2 2 2h14c1.1 0 2-.9 2-2V5c0-1.1-.9-2-2-2zM9 17H7v-7h2v7zm4 0h-2V7h2v10zm4 0h-2v-4h2v4z\"/>\n",
              "    </g>\n",
              "</svg>\n",
              "  </button>\n",
              "\n",
              "<style>\n",
              "  .colab-df-quickchart {\n",
              "      --bg-color: #E8F0FE;\n",
              "      --fill-color: #1967D2;\n",
              "      --hover-bg-color: #E2EBFA;\n",
              "      --hover-fill-color: #174EA6;\n",
              "      --disabled-fill-color: #AAA;\n",
              "      --disabled-bg-color: #DDD;\n",
              "  }\n",
              "\n",
              "  [theme=dark] .colab-df-quickchart {\n",
              "      --bg-color: #3B4455;\n",
              "      --fill-color: #D2E3FC;\n",
              "      --hover-bg-color: #434B5C;\n",
              "      --hover-fill-color: #FFFFFF;\n",
              "      --disabled-bg-color: #3B4455;\n",
              "      --disabled-fill-color: #666;\n",
              "  }\n",
              "\n",
              "  .colab-df-quickchart {\n",
              "    background-color: var(--bg-color);\n",
              "    border: none;\n",
              "    border-radius: 50%;\n",
              "    cursor: pointer;\n",
              "    display: none;\n",
              "    fill: var(--fill-color);\n",
              "    height: 32px;\n",
              "    padding: 0;\n",
              "    width: 32px;\n",
              "  }\n",
              "\n",
              "  .colab-df-quickchart:hover {\n",
              "    background-color: var(--hover-bg-color);\n",
              "    box-shadow: 0 1px 2px rgba(60, 64, 67, 0.3), 0 1px 3px 1px rgba(60, 64, 67, 0.15);\n",
              "    fill: var(--button-hover-fill-color);\n",
              "  }\n",
              "\n",
              "  .colab-df-quickchart-complete:disabled,\n",
              "  .colab-df-quickchart-complete:disabled:hover {\n",
              "    background-color: var(--disabled-bg-color);\n",
              "    fill: var(--disabled-fill-color);\n",
              "    box-shadow: none;\n",
              "  }\n",
              "\n",
              "  .colab-df-spinner {\n",
              "    border: 2px solid var(--fill-color);\n",
              "    border-color: transparent;\n",
              "    border-bottom-color: var(--fill-color);\n",
              "    animation:\n",
              "      spin 1s steps(1) infinite;\n",
              "  }\n",
              "\n",
              "  @keyframes spin {\n",
              "    0% {\n",
              "      border-color: transparent;\n",
              "      border-bottom-color: var(--fill-color);\n",
              "      border-left-color: var(--fill-color);\n",
              "    }\n",
              "    20% {\n",
              "      border-color: transparent;\n",
              "      border-left-color: var(--fill-color);\n",
              "      border-top-color: var(--fill-color);\n",
              "    }\n",
              "    30% {\n",
              "      border-color: transparent;\n",
              "      border-left-color: var(--fill-color);\n",
              "      border-top-color: var(--fill-color);\n",
              "      border-right-color: var(--fill-color);\n",
              "    }\n",
              "    40% {\n",
              "      border-color: transparent;\n",
              "      border-right-color: var(--fill-color);\n",
              "      border-top-color: var(--fill-color);\n",
              "    }\n",
              "    60% {\n",
              "      border-color: transparent;\n",
              "      border-right-color: var(--fill-color);\n",
              "    }\n",
              "    80% {\n",
              "      border-color: transparent;\n",
              "      border-right-color: var(--fill-color);\n",
              "      border-bottom-color: var(--fill-color);\n",
              "    }\n",
              "    90% {\n",
              "      border-color: transparent;\n",
              "      border-bottom-color: var(--fill-color);\n",
              "    }\n",
              "  }\n",
              "</style>\n",
              "\n",
              "  <script>\n",
              "    async function quickchart(key) {\n",
              "      const quickchartButtonEl =\n",
              "        document.querySelector('#' + key + ' button');\n",
              "      quickchartButtonEl.disabled = true;  // To prevent multiple clicks.\n",
              "      quickchartButtonEl.classList.add('colab-df-spinner');\n",
              "      try {\n",
              "        const charts = await google.colab.kernel.invokeFunction(\n",
              "            'suggestCharts', [key], {});\n",
              "      } catch (error) {\n",
              "        console.error('Error during call to suggestCharts:', error);\n",
              "      }\n",
              "      quickchartButtonEl.classList.remove('colab-df-spinner');\n",
              "      quickchartButtonEl.classList.add('colab-df-quickchart-complete');\n",
              "    }\n",
              "    (() => {\n",
              "      let quickchartButtonEl =\n",
              "        document.querySelector('#df-0f426476-5504-453c-818e-7d08b1bab4d9 button');\n",
              "      quickchartButtonEl.style.display =\n",
              "        google.colab.kernel.accessAllowed ? 'block' : 'none';\n",
              "    })();\n",
              "  </script>\n",
              "</div>\n",
              "\n",
              "  <div id=\"id_c095b3e1-cfb8-4988-9dd8-01ded69342d1\">\n",
              "    <style>\n",
              "      .colab-df-generate {\n",
              "        background-color: #E8F0FE;\n",
              "        border: none;\n",
              "        border-radius: 50%;\n",
              "        cursor: pointer;\n",
              "        display: none;\n",
              "        fill: #1967D2;\n",
              "        height: 32px;\n",
              "        padding: 0 0 0 0;\n",
              "        width: 32px;\n",
              "      }\n",
              "\n",
              "      .colab-df-generate:hover {\n",
              "        background-color: #E2EBFA;\n",
              "        box-shadow: 0px 1px 2px rgba(60, 64, 67, 0.3), 0px 1px 3px 1px rgba(60, 64, 67, 0.15);\n",
              "        fill: #174EA6;\n",
              "      }\n",
              "\n",
              "      [theme=dark] .colab-df-generate {\n",
              "        background-color: #3B4455;\n",
              "        fill: #D2E3FC;\n",
              "      }\n",
              "\n",
              "      [theme=dark] .colab-df-generate:hover {\n",
              "        background-color: #434B5C;\n",
              "        box-shadow: 0px 1px 3px 1px rgba(0, 0, 0, 0.15);\n",
              "        filter: drop-shadow(0px 1px 2px rgba(0, 0, 0, 0.3));\n",
              "        fill: #FFFFFF;\n",
              "      }\n",
              "    </style>\n",
              "    <button class=\"colab-df-generate\" onclick=\"generateWithVariable('df')\"\n",
              "            title=\"Generate code using this dataframe.\"\n",
              "            style=\"display:none;\">\n",
              "\n",
              "  <svg xmlns=\"http://www.w3.org/2000/svg\" height=\"24px\"viewBox=\"0 0 24 24\"\n",
              "       width=\"24px\">\n",
              "    <path d=\"M7,19H8.4L18.45,9,17,7.55,7,17.6ZM5,21V16.75L18.45,3.32a2,2,0,0,1,2.83,0l1.4,1.43a1.91,1.91,0,0,1,.58,1.4,1.91,1.91,0,0,1-.58,1.4L9.25,21ZM18.45,9,17,7.55Zm-12,3A5.31,5.31,0,0,0,4.9,8.1,5.31,5.31,0,0,0,1,6.5,5.31,5.31,0,0,0,4.9,4.9,5.31,5.31,0,0,0,6.5,1,5.31,5.31,0,0,0,8.1,4.9,5.31,5.31,0,0,0,12,6.5,5.46,5.46,0,0,0,6.5,12Z\"/>\n",
              "  </svg>\n",
              "    </button>\n",
              "    <script>\n",
              "      (() => {\n",
              "      const buttonEl =\n",
              "        document.querySelector('#id_c095b3e1-cfb8-4988-9dd8-01ded69342d1 button.colab-df-generate');\n",
              "      buttonEl.style.display =\n",
              "        google.colab.kernel.accessAllowed ? 'block' : 'none';\n",
              "\n",
              "      buttonEl.onclick = () => {\n",
              "        google.colab.notebook.generateWithVariable('df');\n",
              "      }\n",
              "      })();\n",
              "    </script>\n",
              "  </div>\n",
              "\n",
              "    </div>\n",
              "  </div>\n"
            ],
            "application/vnd.google.colaboratory.intrinsic+json": {
              "type": "dataframe",
              "variable_name": "df"
            }
          },
          "metadata": {},
          "execution_count": 79
        }
      ]
    },
    {
      "cell_type": "code",
      "source": [
        "count=(df['totime']==252.999).sum()\n",
        "count"
      ],
      "metadata": {
        "colab": {
          "base_uri": "https://localhost:8080/"
        },
        "id": "mUxMrYxmlBZh",
        "outputId": "a9284712-721a-4846-9503-cf77416c6a0f"
      },
      "execution_count": null,
      "outputs": [
        {
          "output_type": "execute_result",
          "data": {
            "text/plain": [
              "205870"
            ]
          },
          "metadata": {},
          "execution_count": 80
        }
      ]
    },
    {
      "cell_type": "code",
      "source": [
        "count=(df['totime']==253.999).sum()\n",
        "count"
      ],
      "metadata": {
        "colab": {
          "base_uri": "https://localhost:8080/"
        },
        "id": "gx18EyxulBcS",
        "outputId": "b4270328-3afb-47ab-dcbc-3b9c44e65bb3"
      },
      "execution_count": null,
      "outputs": [
        {
          "output_type": "execute_result",
          "data": {
            "text/plain": [
              "205870"
            ]
          },
          "metadata": {},
          "execution_count": 81
        }
      ]
    },
    {
      "cell_type": "code",
      "source": [
        "count=(df['totime']==254.999).sum()\n",
        "count"
      ],
      "metadata": {
        "colab": {
          "base_uri": "https://localhost:8080/"
        },
        "id": "l8ZElNyrlBe7",
        "outputId": "afee5484-ebf3-4c10-e9bb-34693eba651b"
      },
      "execution_count": null,
      "outputs": [
        {
          "output_type": "execute_result",
          "data": {
            "text/plain": [
              "205870"
            ]
          },
          "metadata": {},
          "execution_count": 82
        }
      ]
    },
    {
      "cell_type": "code",
      "source": [
        "count=(df['totime']==255.999).sum()\n",
        "count"
      ],
      "metadata": {
        "colab": {
          "base_uri": "https://localhost:8080/"
        },
        "id": "7zxwf-JqlBhk",
        "outputId": "ec6651bb-6178-4471-abcc-4b3f576278ed"
      },
      "execution_count": null,
      "outputs": [
        {
          "output_type": "execute_result",
          "data": {
            "text/plain": [
              "205870"
            ]
          },
          "metadata": {},
          "execution_count": 83
        }
      ]
    },
    {
      "cell_type": "code",
      "source": [
        "count=(df['totime']==256.999).sum()\n",
        "count"
      ],
      "metadata": {
        "colab": {
          "base_uri": "https://localhost:8080/"
        },
        "id": "sR239ehtlBkW",
        "outputId": "f4ca0895-46e3-43c0-9b75-48d0e7d9a2c3"
      },
      "execution_count": null,
      "outputs": [
        {
          "output_type": "execute_result",
          "data": {
            "text/plain": [
              "205870"
            ]
          },
          "metadata": {},
          "execution_count": 84
        }
      ]
    },
    {
      "cell_type": "code",
      "source": [
        "master_tensor=np.zeros((5,205870,5),dtype=np.float32)\n",
        "master_tensor"
      ],
      "metadata": {
        "colab": {
          "base_uri": "https://localhost:8080/"
        },
        "id": "XkUaiH0llBpx",
        "outputId": "72c99b31-9041-489a-c0e2-cb5c41525a41"
      },
      "execution_count": null,
      "outputs": [
        {
          "output_type": "execute_result",
          "data": {
            "text/plain": [
              "array([[[0., 0., 0., 0., 0.],\n",
              "        [0., 0., 0., 0., 0.],\n",
              "        [0., 0., 0., 0., 0.],\n",
              "        ...,\n",
              "        [0., 0., 0., 0., 0.],\n",
              "        [0., 0., 0., 0., 0.],\n",
              "        [0., 0., 0., 0., 0.]],\n",
              "\n",
              "       [[0., 0., 0., 0., 0.],\n",
              "        [0., 0., 0., 0., 0.],\n",
              "        [0., 0., 0., 0., 0.],\n",
              "        ...,\n",
              "        [0., 0., 0., 0., 0.],\n",
              "        [0., 0., 0., 0., 0.],\n",
              "        [0., 0., 0., 0., 0.]],\n",
              "\n",
              "       [[0., 0., 0., 0., 0.],\n",
              "        [0., 0., 0., 0., 0.],\n",
              "        [0., 0., 0., 0., 0.],\n",
              "        ...,\n",
              "        [0., 0., 0., 0., 0.],\n",
              "        [0., 0., 0., 0., 0.],\n",
              "        [0., 0., 0., 0., 0.]],\n",
              "\n",
              "       [[0., 0., 0., 0., 0.],\n",
              "        [0., 0., 0., 0., 0.],\n",
              "        [0., 0., 0., 0., 0.],\n",
              "        ...,\n",
              "        [0., 0., 0., 0., 0.],\n",
              "        [0., 0., 0., 0., 0.],\n",
              "        [0., 0., 0., 0., 0.]],\n",
              "\n",
              "       [[0., 0., 0., 0., 0.],\n",
              "        [0., 0., 0., 0., 0.],\n",
              "        [0., 0., 0., 0., 0.],\n",
              "        ...,\n",
              "        [0., 0., 0., 0., 0.],\n",
              "        [0., 0., 0., 0., 0.],\n",
              "        [0., 0., 0., 0., 0.]]], dtype=float32)"
            ]
          },
          "metadata": {},
          "execution_count": 85
        }
      ]
    },
    {
      "cell_type": "code",
      "source": [
        "data=df"
      ],
      "metadata": {
        "id": "aVKMcfBjlBsr"
      },
      "execution_count": null,
      "outputs": []
    },
    {
      "cell_type": "code",
      "source": [
        "import tensorflow as tf\n",
        "from tensorflow.keras import layers\n",
        "\n",
        "class SpatioTemporalTransformer(tf.keras.Model):\n",
        "    def __init__(self, input_dim=3, output_dim=3, d_model=128, num_heads=8, num_layers=6, ff_dim=512, dropout_rate=0.1):\n",
        "        super(SpatioTemporalTransformer, self).__init__()\n",
        "\n",
        "        # Input projection: project input (t, x, y) to d_model dimension\n",
        "        self.input_projection = layers.Dense(d_model)\n",
        "\n",
        "        # Positional encoding\n",
        "        self.positional_encoding = PositionalEncoding(d_model)\n",
        "\n",
        "        # Transformer layers\n",
        "        self.encoder_layers = [TransformerEncoderLayer(d_model, num_heads, ff_dim, dropout_rate) for _ in range(num_layers)]\n",
        "\n",
        "        # Output projection: project transformer output to (u, v, p)\n",
        "        self.output_projection = layers.Dense(output_dim)\n",
        "\n",
        "    def call(self, inputs):\n",
        "        \"\"\"\n",
        "        Forward pass for the transformer model.\n",
        "        Args:\n",
        "        - inputs: Tensor of shape (batch_size, seq_len, input_dim) -> (t, x, y)\n",
        "\n",
        "        Returns:\n",
        "        - output: Tensor of shape (batch_size, seq_len, output_dim) -> (u, v, p)\n",
        "        \"\"\"\n",
        "        # Apply input projection\n",
        "        x = self.input_projection(inputs)\n",
        "\n",
        "        # Apply positional encoding\n",
        "        x = self.positional_encoding(x)\n",
        "\n",
        "        # Forward through transformer encoder layers\n",
        "        for layer in self.encoder_layers:\n",
        "            x = layer(x)\n",
        "\n",
        "        # Output projection to (u, v, p)\n",
        "        output = self.output_projection(x)\n",
        "\n",
        "        return output\n",
        "\n",
        "class PositionalEncoding(layers.Layer):\n",
        "    def __init__(self, d_model, max_len=7000):\n",
        "        super(PositionalEncoding, self).__init__()\n",
        "        self.d_model = d_model\n",
        "\n",
        "        # Create the positional encoding matrix using sine and cosine\n",
        "        position = tf.range(max_len, dtype=tf.float32)[:, tf.newaxis]\n",
        "        div_term = tf.exp(tf.range(0, d_model, 2, dtype=tf.float32) * (-tf.math.log(10000.0) / d_model))\n",
        "\n",
        "        pe_sin = tf.sin(position * div_term)\n",
        "        pe_cos = tf.cos(position * div_term)\n",
        "\n",
        "        # Concatenate sine and cosine terms along the last dimension\n",
        "        pe = tf.concat([pe_sin, pe_cos], axis=-1)\n",
        "\n",
        "        # Add an extra batch dimension at the start, so shape becomes (1, max_len, d_model)\n",
        "        pe = tf.expand_dims(pe, 0)\n",
        "        self.positional_encoding = tf.Variable(pe, trainable=False)\n",
        "\n",
        "    def call(self, x):\n",
        "        \"\"\"\n",
        "        Forward pass for positional encoding.\n",
        "        Args:\n",
        "        - x: Tensor of shape (batch_size, seq_len, d_model)\n",
        "\n",
        "        Returns:\n",
        "        - x: Tensor with positional encoding added\n",
        "        \"\"\"\n",
        "        seq_len = tf.shape(x)[1]\n",
        "        x += self.positional_encoding[:, :seq_len, :]\n",
        "        return x\n",
        "\n",
        "class TransformerEncoderLayer(layers.Layer):\n",
        "    def __init__(self, d_model, num_heads, ff_dim, dropout_rate=0.1):\n",
        "        super(TransformerEncoderLayer, self).__init__()\n",
        "\n",
        "        # Multi-head self-attention\n",
        "        self.attention = layers.MultiHeadAttention(num_heads=num_heads, key_dim=d_model)\n",
        "\n",
        "        # Feedforward layers\n",
        "        self.ffn = tf.keras.Sequential([\n",
        "            layers.Dense(ff_dim, activation='relu'),\n",
        "            layers.Dense(d_model)\n",
        "        ])\n",
        "\n",
        "        # Layer normalization and dropout\n",
        "        self.layernorm1 = layers.LayerNormalization(epsilon=1e-6)\n",
        "        self.layernorm2 = layers.LayerNormalization(epsilon=1e-6)\n",
        "        self.dropout1 = layers.Dropout(dropout_rate)\n",
        "        self.dropout2 = layers.Dropout(dropout_rate)\n",
        "\n",
        "    def call(self, x):\n",
        "        \"\"\"\n",
        "        Forward pass for the transformer encoder layer.\n",
        "        Args:\n",
        "        - x: Tensor of shape (batch_size, seq_len, d_model)\n",
        "\n",
        "        Returns:\n",
        "        - x: Tensor after self-attention and feedforward layers\n",
        "        \"\"\"\n",
        "        # Multi-head attention\n",
        "        attn_output = self.attention(x, x)\n",
        "        attn_output = self.dropout1(attn_output)\n",
        "        out1 = self.layernorm1(x + attn_output)\n",
        "\n",
        "        # Feedforward network\n",
        "        ffn_output = self.ffn(out1)\n",
        "        ffn_output = self.dropout2(ffn_output)\n",
        "        out2 = self.layernorm2(out1 + ffn_output)\n",
        "\n",
        "        return out2\n",
        "\n",
        "# Example usage\n",
        "if __name__ == \"__main__\":\n",
        "    # Dummy input of shape (batch_size, seq_len, input_dim) -> (batch_size, seq_len, (t, x, y))\n",
        "    batch_size = 32\n",
        "    seq_len = 10\n",
        "    input_dim = 3  # (t, x, y)\n",
        "    output_dim = 3  # (u, v, p)\n",
        "\n",
        "    model = SpatioTemporalTransformer(input_dim=input_dim, output_dim=output_dim)\n",
        "    src = tf.random.normal((batch_size, seq_len, input_dim))\n",
        "\n",
        "    # Output should be of shape (batch_size, seq_len, output_dim) -> (u, v, p)\n",
        "    output = model(src)\n",
        "    print(output.shape)  # Expected: (batch_size, seq_len, output_dim)\n"
      ],
      "metadata": {
        "colab": {
          "base_uri": "https://localhost:8080/"
        },
        "id": "nOGQV8ZPawiH",
        "outputId": "808dc429-9e00-4104-bcf5-f62d1b5618ba"
      },
      "execution_count": null,
      "outputs": [
        {
          "output_type": "stream",
          "name": "stdout",
          "text": [
            "(32, 10, 3)\n"
          ]
        }
      ]
    },
    {
      "cell_type": "code",
      "source": [
        "import pandas as pd\n",
        "import numpy as np\n",
        "import tensorflow as tf\n",
        "\n",
        "# Step 1: Load the CSV file into a DataFrame\n",
        "# Assume 'data.csv' contains columns ['t', 'x', 'y', 'u', 'v', 'p']\n",
        "data = df\n",
        "\n",
        "# Step 2: Prepare X_train and Y_train\n",
        "# X_train will have (t, x, y), and Y_train will have (u, v, p)\n",
        "X_train = data[['totime', 'x', 'y']].values\n",
        "Y_train = data[['u', 'v', 'p']].values\n",
        "\n",
        "# Step 3: Normalize or scale the data (if necessary)\n",
        "# Optionally, you might normalize the features to be in a certain range\n",
        "from sklearn.preprocessing import MinMaxScaler\n",
        "\n",
        "scaler_X = MinMaxScaler()  # Scale (t, x, y) between 0 and 1\n",
        "scaler_Y = MinMaxScaler()  # Scale (u, v, p) between 0 and 1\n",
        "\n",
        "X_train_scaled = scaler_X.fit_transform(X_train)\n",
        "Y_train_scaled = scaler_Y.fit_transform(Y_train)\n",
        "\n",
        "# Step 4: Reshape the data to match the expected input of the model\n",
        "# Assuming that each sequence is independent, we reshape as (batch_size, seq_len, input_dim)\n",
        "# If you want to work with time sequences, you can reshape accordingly\n",
        "batch_size = 32  # Number of samples per batch\n",
        "seq_len = 1      # Sequence length, in this case 1 because we're not forming time sequences\n",
        "input_dim = 3    # (t, x, y)\n",
        "output_dim = 3   # (u, v, p)\n",
        "\n",
        "X_train_reshaped = np.reshape(X_train_scaled, (X_train_scaled.shape[0] // seq_len, seq_len, input_dim))\n",
        "Y_train_reshaped = np.reshape(Y_train_scaled, (Y_train_scaled.shape[0] // seq_len, seq_len, output_dim))\n",
        "\n",
        "# Step 5: Convert to TensorFlow tensors\n",
        "X_train_tensor = tf.convert_to_tensor(X_train_reshaped, dtype=tf.float32)\n",
        "Y_train_tensor = tf.convert_to_tensor(Y_train_reshaped, dtype=tf.float32)\n",
        "\n",
        "print(X_train_tensor.shape)  # Expected shape: (batch_size, seq_len, input_dim)\n",
        "print(Y_train_tensor.shape)  # Expected shape: (batch_size, seq_len, output_dim)\n"
      ],
      "metadata": {
        "id": "ThbkS3B-ii_U",
        "colab": {
          "base_uri": "https://localhost:8080/"
        },
        "outputId": "0c07ee79-3237-4904-cc83-75770d748ae7"
      },
      "execution_count": null,
      "outputs": [
        {
          "output_type": "stream",
          "name": "stdout",
          "text": [
            "(1029350, 1, 3)\n",
            "(1029350, 1, 3)\n"
          ]
        }
      ]
    },
    {
      "cell_type": "code",
      "source": [
        "data=df"
      ],
      "metadata": {
        "id": "X9EVfW8Pk03u"
      },
      "execution_count": null,
      "outputs": []
    },
    {
      "cell_type": "code",
      "source": [
        "# Initialize scalers for input (x, y) and target (u, v, p)\n",
        "scaler_X = MinMaxScaler()  # For normalizing (x, y)\n",
        "scaler_Y = MinMaxScaler()  # For normalizing (u, v, p)\n",
        "\n",
        "# Normalize the spatial coordinates (x, y)\n",
        "data[['x', 'y']] = scaler_X.fit_transform(data[['x', 'y']])\n",
        "\n",
        "# Normalize the target values (u, v, p)\n",
        "data[['u', 'v', 'p']] = scaler_Y.fit_transform(data[['u', 'v', 'p']])\n",
        "\n",
        "# Ensure data is sorted by time\n",
        "data = data.sort_values(by=['totime', 'x', 'y']).reset_index(drop=True)\n"
      ],
      "metadata": {
        "id": "5BSwIO13kuqU"
      },
      "execution_count": null,
      "outputs": []
    },
    {
      "cell_type": "code",
      "source": [
        "import pandas as pd\n",
        "import numpy as np\n",
        "\n",
        "# Load the dataset\n",
        "# Assume your dataset has columns: ['t', 'x', 'y', 'u', 'v', 'p']\n",
        "data = df\n",
        "\n",
        "# Step 1: Sort the data by time\n",
        "data = data.sort_values(by=['totime', 'x', 'y']).reset_index(drop=True)\n",
        "\n",
        "# Step 2: Group by time step\n",
        "# Extract unique time steps\n",
        "time_steps = data['totime'].unique()\n",
        "\n",
        "# Prepare lists to hold sequences of (x, y) and (u, v, p)\n",
        "X_spatial_seq = []\n",
        "Y_spatial_seq = []\n",
        "\n",
        "# Step 3: For each time step, gather the spatial points (x, y) and corresponding target (u, v, p)\n",
        "for t in time_steps:\n",
        "    # Filter data for the current time step\n",
        "    time_data = data[data['totime'] == t]\n",
        "\n",
        "    # Extract spatial points (x, y)\n",
        "    X_spatial = time_data[['x', 'y']].values\n",
        "\n",
        "    # Extract target values (u, v, p)\n",
        "    Y_spatial = time_data[['u', 'v', 'p']].values\n",
        "\n",
        "    # Append to the sequences\n",
        "    X_spatial_seq.append(X_spatial)\n",
        "    Y_spatial_seq.append(Y_spatial)\n",
        "\n",
        "# Step 4: Convert the lists to numpy arrays\n",
        "X_spatial_seq = np.array(X_spatial_seq)\n",
        "Y_spatial_seq = np.array(Y_spatial_seq)\n",
        "\n",
        "# Check shapes\n",
        "print(X_spatial_seq.shape)  # Expected: (n_time_steps, n_spatial_points, 2) -> (t, (x, y))\n",
        "print(Y_spatial_seq.shape)  # Expected: (n_time_steps, n_spatial_points, 3) -> (t, (u, v, p))\n"
      ],
      "metadata": {
        "id": "alRzInH0ijBm",
        "colab": {
          "base_uri": "https://localhost:8080/"
        },
        "outputId": "f58b2444-56ab-4fc5-cd39-5fca12f598e2"
      },
      "execution_count": null,
      "outputs": [
        {
          "output_type": "stream",
          "name": "stdout",
          "text": [
            "(5, 205870, 2)\n",
            "(5, 205870, 3)\n"
          ]
        }
      ]
    },
    {
      "cell_type": "code",
      "source": [
        "# Create the input by adding the time step to each spatial point\n",
        "X_spatial_seq_with_time = []\n",
        "\n",
        "for i, t in enumerate(time_steps):\n",
        "    # Repeat the time step `t` for each spatial point in this time step\n",
        "    t_column = np.full((X_spatial_seq[i].shape[0], 1), t)\n",
        "\n",
        "    # Concatenate time step `t` with the spatial points (x, y)\n",
        "    X_with_time = np.concatenate([t_column, X_spatial_seq[i]], axis=1)\n",
        "\n",
        "    # Append to the new input sequence\n",
        "    X_spatial_seq_with_time.append(X_with_time)\n",
        "\n",
        "# Convert the list to a numpy array\n",
        "X_spatial_seq_with_time = np.array(X_spatial_seq_with_time)\n",
        "\n",
        "# Check the shape of the new input\n",
        "print(X_spatial_seq_with_time.shape)  # Expected shape: (n_time_steps, n_spatial_points, 3)\n"
      ],
      "metadata": {
        "colab": {
          "base_uri": "https://localhost:8080/"
        },
        "id": "Afe0pc4aljed",
        "outputId": "699d905f-72e1-48d8-d5cd-6f6d3f351135"
      },
      "execution_count": null,
      "outputs": [
        {
          "output_type": "stream",
          "name": "stdout",
          "text": [
            "(5, 205870, 3)\n"
          ]
        }
      ]
    },
    {
      "cell_type": "code",
      "source": [
        "t"
      ],
      "metadata": {
        "colab": {
          "base_uri": "https://localhost:8080/"
        },
        "id": "NJZoTmWZ0FEv",
        "outputId": "2fb5107e-0523-4a94-d728-a6576099d4c3"
      },
      "execution_count": null,
      "outputs": [
        {
          "output_type": "execute_result",
          "data": {
            "text/plain": [
              "256.999"
            ]
          },
          "metadata": {},
          "execution_count": 93
        }
      ]
    },
    {
      "cell_type": "code",
      "source": [
        "X_spatial_seq_with_time"
      ],
      "metadata": {
        "id": "kX8LumAYijEz",
        "colab": {
          "base_uri": "https://localhost:8080/"
        },
        "outputId": "e67d6c0b-d44c-481c-d6f0-43fbc653fd71"
      },
      "execution_count": null,
      "outputs": [
        {
          "output_type": "execute_result",
          "data": {
            "text/plain": [
              "array([[[2.52999e+02, 0.00000e+00, 2.00000e-02],\n",
              "        [2.52999e+02, 0.00000e+00, 5.00000e-02],\n",
              "        [2.52999e+02, 0.00000e+00, 8.00000e-02],\n",
              "        ...,\n",
              "        [2.52999e+02, 1.00000e+00, 9.80000e-01],\n",
              "        [2.52999e+02, 1.00000e+00, 9.90000e-01],\n",
              "        [2.52999e+02, 1.00000e+00, 1.00000e+00]],\n",
              "\n",
              "       [[2.53999e+02, 0.00000e+00, 2.00000e-02],\n",
              "        [2.53999e+02, 0.00000e+00, 5.00000e-02],\n",
              "        [2.53999e+02, 0.00000e+00, 8.00000e-02],\n",
              "        ...,\n",
              "        [2.53999e+02, 1.00000e+00, 9.80000e-01],\n",
              "        [2.53999e+02, 1.00000e+00, 9.90000e-01],\n",
              "        [2.53999e+02, 1.00000e+00, 1.00000e+00]],\n",
              "\n",
              "       [[2.54999e+02, 0.00000e+00, 2.00000e-02],\n",
              "        [2.54999e+02, 0.00000e+00, 5.00000e-02],\n",
              "        [2.54999e+02, 0.00000e+00, 8.00000e-02],\n",
              "        ...,\n",
              "        [2.54999e+02, 1.00000e+00, 9.80000e-01],\n",
              "        [2.54999e+02, 1.00000e+00, 9.90000e-01],\n",
              "        [2.54999e+02, 1.00000e+00, 1.00000e+00]],\n",
              "\n",
              "       [[2.55999e+02, 0.00000e+00, 2.00000e-02],\n",
              "        [2.55999e+02, 0.00000e+00, 5.00000e-02],\n",
              "        [2.55999e+02, 0.00000e+00, 8.00000e-02],\n",
              "        ...,\n",
              "        [2.55999e+02, 1.00000e+00, 9.80000e-01],\n",
              "        [2.55999e+02, 1.00000e+00, 9.90000e-01],\n",
              "        [2.55999e+02, 1.00000e+00, 1.00000e+00]],\n",
              "\n",
              "       [[2.56999e+02, 0.00000e+00, 2.00000e-02],\n",
              "        [2.56999e+02, 0.00000e+00, 5.00000e-02],\n",
              "        [2.56999e+02, 0.00000e+00, 8.00000e-02],\n",
              "        ...,\n",
              "        [2.56999e+02, 1.00000e+00, 9.80000e-01],\n",
              "        [2.56999e+02, 1.00000e+00, 9.90000e-01],\n",
              "        [2.56999e+02, 1.00000e+00, 1.00000e+00]]])"
            ]
          },
          "metadata": {},
          "execution_count": 94
        }
      ]
    },
    {
      "cell_type": "code",
      "source": [
        "import tensorflow as tf\n",
        "\n",
        "# Convert the numpy arrays to TensorFlow tensors\n",
        "X_train_tensor = tf.convert_to_tensor(X_spatial_seq_with_time, dtype=tf.float32)\n",
        "Y_train_tensor = tf.convert_to_tensor(Y_spatial_seq, dtype=tf.float32)\n",
        "\n",
        "print(X_train_tensor.shape)  # Expected: (n_time_steps, n_spatial_points, 2)\n",
        "print(Y_train_tensor.shape)  # Expected: (n_time_steps, n_spatial_points, 3)\n"
      ],
      "metadata": {
        "id": "CggZXW6ZijH2",
        "colab": {
          "base_uri": "https://localhost:8080/"
        },
        "outputId": "111c31a2-be18-4b79-a408-0db2c09a07d8"
      },
      "execution_count": null,
      "outputs": [
        {
          "output_type": "stream",
          "name": "stdout",
          "text": [
            "(5, 205870, 3)\n",
            "(5, 205870, 3)\n"
          ]
        }
      ]
    },
    {
      "cell_type": "code",
      "source": [
        "# Truncate the input tensor if it's larger than 1000\n",
        "max_seq_length = 3000\n",
        "\n",
        "if X_train_tensor.shape[1] > max_seq_length:\n",
        "    X_train_tensor = X_train_tensor[:, :max_seq_length, :]\n",
        "    Y_train_tensor = Y_train_tensor[:, :max_seq_length, :]\n"
      ],
      "metadata": {
        "id": "vtlqM83GmVf-"
      },
      "execution_count": null,
      "outputs": []
    },
    {
      "cell_type": "code",
      "source": [
        "#include a custom loss also and increase number of points\n",
        "X_train_tensor.shape,Y_train_tensor.shape\n"
      ],
      "metadata": {
        "id": "m3kr0ebtqbWS",
        "colab": {
          "base_uri": "https://localhost:8080/"
        },
        "outputId": "b34941e8-d52d-4122-e2fa-1c03073250e3"
      },
      "execution_count": null,
      "outputs": [
        {
          "output_type": "execute_result",
          "data": {
            "text/plain": [
              "(TensorShape([5, 3000, 3]), TensorShape([5, 3000, 3]))"
            ]
          },
          "metadata": {},
          "execution_count": 97
        }
      ]
    },
    {
      "cell_type": "code",
      "source": [
        "# Compile the model\n",
        "model.compile(optimizer='adam', loss='mse')\n",
        "\n",
        "# Train the model\n",
        "history = model.fit(X_train_tensor, Y_train_tensor, epochs=100, batch_size=32)\n"
      ],
      "metadata": {
        "id": "_kdyummCijLU",
        "colab": {
          "base_uri": "https://localhost:8080/"
        },
        "outputId": "d3f57289-5606-4f97-c703-f62be4a19a9c"
      },
      "execution_count": null,
      "outputs": [
        {
          "output_type": "stream",
          "name": "stdout",
          "text": [
            "Epoch 1/100\n",
            "\u001b[1m1/1\u001b[0m \u001b[32m━━━━━━━━━━━━━━━━━━━━\u001b[0m\u001b[37m\u001b[0m \u001b[1m28s\u001b[0m 28s/step - loss: 3.4394\n",
            "Epoch 2/100\n",
            "\u001b[1m1/1\u001b[0m \u001b[32m━━━━━━━━━━━━━━━━━━━━\u001b[0m\u001b[37m\u001b[0m \u001b[1m11s\u001b[0m 11s/step - loss: 21.9573\n",
            "Epoch 3/100\n",
            "\u001b[1m1/1\u001b[0m \u001b[32m━━━━━━━━━━━━━━━━━━━━\u001b[0m\u001b[37m\u001b[0m \u001b[1m2s\u001b[0m 2s/step - loss: 1.4803\n",
            "Epoch 4/100\n",
            "\u001b[1m1/1\u001b[0m \u001b[32m━━━━━━━━━━━━━━━━━━━━\u001b[0m\u001b[37m\u001b[0m \u001b[1m3s\u001b[0m 3s/step - loss: 1.3807\n",
            "Epoch 5/100\n",
            "\u001b[1m1/1\u001b[0m \u001b[32m━━━━━━━━━━━━━━━━━━━━\u001b[0m\u001b[37m\u001b[0m \u001b[1m3s\u001b[0m 3s/step - loss: 0.1992\n",
            "Epoch 6/100\n",
            "\u001b[1m1/1\u001b[0m \u001b[32m━━━━━━━━━━━━━━━━━━━━\u001b[0m\u001b[37m\u001b[0m \u001b[1m3s\u001b[0m 3s/step - loss: 0.1766\n",
            "Epoch 7/100\n",
            "\u001b[1m1/1\u001b[0m \u001b[32m━━━━━━━━━━━━━━━━━━━━\u001b[0m\u001b[37m\u001b[0m \u001b[1m1s\u001b[0m 1s/step - loss: 0.3950\n",
            "Epoch 8/100\n",
            "\u001b[1m1/1\u001b[0m \u001b[32m━━━━━━━━━━━━━━━━━━━━\u001b[0m\u001b[37m\u001b[0m \u001b[1m3s\u001b[0m 3s/step - loss: 0.2408\n",
            "Epoch 9/100\n",
            "\u001b[1m1/1\u001b[0m \u001b[32m━━━━━━━━━━━━━━━━━━━━\u001b[0m\u001b[37m\u001b[0m \u001b[1m2s\u001b[0m 2s/step - loss: 0.0400\n",
            "Epoch 10/100\n",
            "\u001b[1m1/1\u001b[0m \u001b[32m━━━━━━━━━━━━━━━━━━━━\u001b[0m\u001b[37m\u001b[0m \u001b[1m3s\u001b[0m 3s/step - loss: 0.0291\n",
            "Epoch 11/100\n",
            "\u001b[1m1/1\u001b[0m \u001b[32m━━━━━━━━━━━━━━━━━━━━\u001b[0m\u001b[37m\u001b[0m \u001b[1m3s\u001b[0m 3s/step - loss: 0.1365\n",
            "Epoch 12/100\n",
            "\u001b[1m1/1\u001b[0m \u001b[32m━━━━━━━━━━━━━━━━━━━━\u001b[0m\u001b[37m\u001b[0m \u001b[1m2s\u001b[0m 2s/step - loss: 0.1796\n",
            "Epoch 13/100\n",
            "\u001b[1m1/1\u001b[0m \u001b[32m━━━━━━━━━━━━━━━━━━━━\u001b[0m\u001b[37m\u001b[0m \u001b[1m2s\u001b[0m 2s/step - loss: 0.1115\n",
            "Epoch 14/100\n",
            "\u001b[1m1/1\u001b[0m \u001b[32m━━━━━━━━━━━━━━━━━━━━\u001b[0m\u001b[37m\u001b[0m \u001b[1m3s\u001b[0m 3s/step - loss: 0.0258\n",
            "Epoch 15/100\n",
            "\u001b[1m1/1\u001b[0m \u001b[32m━━━━━━━━━━━━━━━━━━━━\u001b[0m\u001b[37m\u001b[0m \u001b[1m2s\u001b[0m 2s/step - loss: 0.0024\n",
            "Epoch 16/100\n",
            "\u001b[1m1/1\u001b[0m \u001b[32m━━━━━━━━━━━━━━━━━━━━\u001b[0m\u001b[37m\u001b[0m \u001b[1m2s\u001b[0m 2s/step - loss: 0.0389\n",
            "Epoch 17/100\n",
            "\u001b[1m1/1\u001b[0m \u001b[32m━━━━━━━━━━━━━━━━━━━━\u001b[0m\u001b[37m\u001b[0m \u001b[1m2s\u001b[0m 2s/step - loss: 0.0779\n",
            "Epoch 18/100\n",
            "\u001b[1m1/1\u001b[0m \u001b[32m━━━━━━━━━━━━━━━━━━━━\u001b[0m\u001b[37m\u001b[0m \u001b[1m3s\u001b[0m 3s/step - loss: 0.0780\n",
            "Epoch 19/100\n",
            "\u001b[1m1/1\u001b[0m \u001b[32m━━━━━━━━━━━━━━━━━━━━\u001b[0m\u001b[37m\u001b[0m \u001b[1m2s\u001b[0m 2s/step - loss: 0.0461\n",
            "Epoch 20/100\n",
            "\u001b[1m1/1\u001b[0m \u001b[32m━━━━━━━━━━━━━━━━━━━━\u001b[0m\u001b[37m\u001b[0m \u001b[1m2s\u001b[0m 2s/step - loss: 0.0150\n",
            "Epoch 21/100\n",
            "\u001b[1m1/1\u001b[0m \u001b[32m━━━━━━━━━━━━━━━━━━━━\u001b[0m\u001b[37m\u001b[0m \u001b[1m3s\u001b[0m 3s/step - loss: 0.0071\n",
            "Epoch 22/100\n",
            "\u001b[1m1/1\u001b[0m \u001b[32m━━━━━━━━━━━━━━━━━━━━\u001b[0m\u001b[37m\u001b[0m \u001b[1m3s\u001b[0m 3s/step - loss: 0.0188\n",
            "Epoch 23/100\n",
            "\u001b[1m1/1\u001b[0m \u001b[32m━━━━━━━━━━━━━━━━━━━━\u001b[0m\u001b[37m\u001b[0m \u001b[1m3s\u001b[0m 3s/step - loss: 0.0324\n",
            "Epoch 24/100\n",
            "\u001b[1m1/1\u001b[0m \u001b[32m━━━━━━━━━━━━━━━━━━━━\u001b[0m\u001b[37m\u001b[0m \u001b[1m3s\u001b[0m 3s/step - loss: 0.0353\n",
            "Epoch 25/100\n",
            "\u001b[1m1/1\u001b[0m \u001b[32m━━━━━━━━━━━━━━━━━━━━\u001b[0m\u001b[37m\u001b[0m \u001b[1m2s\u001b[0m 2s/step - loss: 0.0271\n",
            "Epoch 26/100\n",
            "\u001b[1m1/1\u001b[0m \u001b[32m━━━━━━━━━━━━━━━━━━━━\u001b[0m\u001b[37m\u001b[0m \u001b[1m2s\u001b[0m 2s/step - loss: 0.0156\n",
            "Epoch 27/100\n",
            "\u001b[1m1/1\u001b[0m \u001b[32m━━━━━━━━━━━━━━━━━━━━\u001b[0m\u001b[37m\u001b[0m \u001b[1m3s\u001b[0m 3s/step - loss: 0.0080\n",
            "Epoch 28/100\n",
            "\u001b[1m1/1\u001b[0m \u001b[32m━━━━━━━━━━━━━━━━━━━━\u001b[0m\u001b[37m\u001b[0m \u001b[1m3s\u001b[0m 3s/step - loss: 0.0069\n",
            "Epoch 29/100\n",
            "\u001b[1m1/1\u001b[0m \u001b[32m━━━━━━━━━━━━━━━━━━━━\u001b[0m\u001b[37m\u001b[0m \u001b[1m2s\u001b[0m 2s/step - loss: 0.0104\n",
            "Epoch 30/100\n",
            "\u001b[1m1/1\u001b[0m \u001b[32m━━━━━━━━━━━━━━━━━━━━\u001b[0m\u001b[37m\u001b[0m \u001b[1m3s\u001b[0m 3s/step - loss: 0.0150\n",
            "Epoch 31/100\n",
            "\u001b[1m1/1\u001b[0m \u001b[32m━━━━━━━━━━━━━━━━━━━━\u001b[0m\u001b[37m\u001b[0m \u001b[1m3s\u001b[0m 3s/step - loss: 0.0165\n",
            "Epoch 32/100\n",
            "\u001b[1m1/1\u001b[0m \u001b[32m━━━━━━━━━━━━━━━━━━━━\u001b[0m\u001b[37m\u001b[0m \u001b[1m2s\u001b[0m 2s/step - loss: 0.0132\n",
            "Epoch 33/100\n",
            "\u001b[1m1/1\u001b[0m \u001b[32m━━━━━━━━━━━━━━━━━━━━\u001b[0m\u001b[37m\u001b[0m \u001b[1m3s\u001b[0m 3s/step - loss: 0.0070\n",
            "Epoch 34/100\n",
            "\u001b[1m1/1\u001b[0m \u001b[32m━━━━━━━━━━━━━━━━━━━━\u001b[0m\u001b[37m\u001b[0m \u001b[1m3s\u001b[0m 3s/step - loss: 0.0023\n",
            "Epoch 35/100\n",
            "\u001b[1m1/1\u001b[0m \u001b[32m━━━━━━━━━━━━━━━━━━━━\u001b[0m\u001b[37m\u001b[0m \u001b[1m3s\u001b[0m 3s/step - loss: 0.0025\n",
            "Epoch 36/100\n",
            "\u001b[1m1/1\u001b[0m \u001b[32m━━━━━━━━━━━━━━━━━━━━\u001b[0m\u001b[37m\u001b[0m \u001b[1m2s\u001b[0m 2s/step - loss: 0.0065\n",
            "Epoch 37/100\n",
            "\u001b[1m1/1\u001b[0m \u001b[32m━━━━━━━━━━━━━━━━━━━━\u001b[0m\u001b[37m\u001b[0m \u001b[1m2s\u001b[0m 2s/step - loss: 0.0098\n",
            "Epoch 38/100\n",
            "\u001b[1m1/1\u001b[0m \u001b[32m━━━━━━━━━━━━━━━━━━━━\u001b[0m\u001b[37m\u001b[0m \u001b[1m2s\u001b[0m 2s/step - loss: 0.0090\n",
            "Epoch 39/100\n",
            "\u001b[1m1/1\u001b[0m \u001b[32m━━━━━━━━━━━━━━━━━━━━\u001b[0m\u001b[37m\u001b[0m \u001b[1m2s\u001b[0m 2s/step - loss: 0.0046\n",
            "Epoch 40/100\n",
            "\u001b[1m1/1\u001b[0m \u001b[32m━━━━━━━━━━━━━━━━━━━━\u001b[0m\u001b[37m\u001b[0m \u001b[1m2s\u001b[0m 2s/step - loss: 7.3427e-04\n",
            "Epoch 41/100\n",
            "\u001b[1m1/1\u001b[0m \u001b[32m━━━━━━━━━━━━━━━━━━━━\u001b[0m\u001b[37m\u001b[0m \u001b[1m2s\u001b[0m 2s/step - loss: 4.9337e-04\n",
            "Epoch 42/100\n",
            "\u001b[1m1/1\u001b[0m \u001b[32m━━━━━━━━━━━━━━━━━━━━\u001b[0m\u001b[37m\u001b[0m \u001b[1m2s\u001b[0m 2s/step - loss: 0.0032\n",
            "Epoch 43/100\n",
            "\u001b[1m1/1\u001b[0m \u001b[32m━━━━━━━━━━━━━━━━━━━━\u001b[0m\u001b[37m\u001b[0m \u001b[1m3s\u001b[0m 3s/step - loss: 0.0056\n",
            "Epoch 44/100\n",
            "\u001b[1m1/1\u001b[0m \u001b[32m━━━━━━━━━━━━━━━━━━━━\u001b[0m\u001b[37m\u001b[0m \u001b[1m3s\u001b[0m 3s/step - loss: 0.0051\n",
            "Epoch 45/100\n",
            "\u001b[1m1/1\u001b[0m \u001b[32m━━━━━━━━━━━━━━━━━━━━\u001b[0m\u001b[37m\u001b[0m \u001b[1m3s\u001b[0m 3s/step - loss: 0.0024\n",
            "Epoch 46/100\n",
            "\u001b[1m1/1\u001b[0m \u001b[32m━━━━━━━━━━━━━━━━━━━━\u001b[0m\u001b[37m\u001b[0m \u001b[1m3s\u001b[0m 3s/step - loss: 3.6572e-04\n",
            "Epoch 47/100\n",
            "\u001b[1m1/1\u001b[0m \u001b[32m━━━━━━━━━━━━━━━━━━━━\u001b[0m\u001b[37m\u001b[0m \u001b[1m2s\u001b[0m 2s/step - loss: 4.5713e-04\n",
            "Epoch 48/100\n",
            "\u001b[1m1/1\u001b[0m \u001b[32m━━━━━━━━━━━━━━━━━━━━\u001b[0m\u001b[37m\u001b[0m \u001b[1m3s\u001b[0m 3s/step - loss: 0.0019\n",
            "Epoch 49/100\n",
            "\u001b[1m1/1\u001b[0m \u001b[32m━━━━━━━━━━━━━━━━━━━━\u001b[0m\u001b[37m\u001b[0m \u001b[1m2s\u001b[0m 2s/step - loss: 0.0029\n",
            "Epoch 50/100\n",
            "\u001b[1m1/1\u001b[0m \u001b[32m━━━━━━━━━━━━━━━━━━━━\u001b[0m\u001b[37m\u001b[0m \u001b[1m2s\u001b[0m 2s/step - loss: 0.0024\n",
            "Epoch 51/100\n",
            "\u001b[1m1/1\u001b[0m \u001b[32m━━━━━━━━━━━━━━━━━━━━\u001b[0m\u001b[37m\u001b[0m \u001b[1m2s\u001b[0m 2s/step - loss: 0.0013\n",
            "Epoch 52/100\n",
            "\u001b[1m1/1\u001b[0m \u001b[32m━━━━━━━━━━━━━━━━━━━━\u001b[0m\u001b[37m\u001b[0m \u001b[1m3s\u001b[0m 3s/step - loss: 4.6616e-04\n",
            "Epoch 53/100\n",
            "\u001b[1m1/1\u001b[0m \u001b[32m━━━━━━━━━━━━━━━━━━━━\u001b[0m\u001b[37m\u001b[0m \u001b[1m3s\u001b[0m 3s/step - loss: 5.0382e-04\n",
            "Epoch 54/100\n",
            "\u001b[1m1/1\u001b[0m \u001b[32m━━━━━━━━━━━━━━━━━━━━\u001b[0m\u001b[37m\u001b[0m \u001b[1m3s\u001b[0m 3s/step - loss: 9.9099e-04\n",
            "Epoch 55/100\n",
            "\u001b[1m1/1\u001b[0m \u001b[32m━━━━━━━━━━━━━━━━━━━━\u001b[0m\u001b[37m\u001b[0m \u001b[1m3s\u001b[0m 3s/step - loss: 0.0013\n",
            "Epoch 56/100\n",
            "\u001b[1m1/1\u001b[0m \u001b[32m━━━━━━━━━━━━━━━━━━━━\u001b[0m\u001b[37m\u001b[0m \u001b[1m3s\u001b[0m 3s/step - loss: 0.0012\n",
            "Epoch 57/100\n",
            "\u001b[1m1/1\u001b[0m \u001b[32m━━━━━━━━━━━━━━━━━━━━\u001b[0m\u001b[37m\u001b[0m \u001b[1m3s\u001b[0m 3s/step - loss: 8.2385e-04\n",
            "Epoch 58/100\n",
            "\u001b[1m1/1\u001b[0m \u001b[32m━━━━━━━━━━━━━━━━━━━━\u001b[0m\u001b[37m\u001b[0m \u001b[1m3s\u001b[0m 3s/step - loss: 3.9594e-04\n",
            "Epoch 59/100\n",
            "\u001b[1m1/1\u001b[0m \u001b[32m━━━━━━━━━━━━━━━━━━━━\u001b[0m\u001b[37m\u001b[0m \u001b[1m2s\u001b[0m 2s/step - loss: 2.4512e-04\n",
            "Epoch 60/100\n",
            "\u001b[1m1/1\u001b[0m \u001b[32m━━━━━━━━━━━━━━━━━━━━\u001b[0m\u001b[37m\u001b[0m \u001b[1m3s\u001b[0m 3s/step - loss: 4.3575e-04\n",
            "Epoch 61/100\n",
            "\u001b[1m1/1\u001b[0m \u001b[32m━━━━━━━━━━━━━━━━━━━━\u001b[0m\u001b[37m\u001b[0m \u001b[1m3s\u001b[0m 3s/step - loss: 7.2663e-04\n",
            "Epoch 62/100\n",
            "\u001b[1m1/1\u001b[0m \u001b[32m━━━━━━━━━━━━━━━━━━━━\u001b[0m\u001b[37m\u001b[0m \u001b[1m3s\u001b[0m 3s/step - loss: 7.7107e-04\n",
            "Epoch 63/100\n",
            "\u001b[1m1/1\u001b[0m \u001b[32m━━━━━━━━━━━━━━━━━━━━\u001b[0m\u001b[37m\u001b[0m \u001b[1m3s\u001b[0m 3s/step - loss: 4.7692e-04\n",
            "Epoch 64/100\n",
            "\u001b[1m1/1\u001b[0m \u001b[32m━━━━━━━━━━━━━━━━━━━━\u001b[0m\u001b[37m\u001b[0m \u001b[1m2s\u001b[0m 2s/step - loss: 1.2811e-04\n",
            "Epoch 65/100\n",
            "\u001b[1m1/1\u001b[0m \u001b[32m━━━━━━━━━━━━━━━━━━━━\u001b[0m\u001b[37m\u001b[0m \u001b[1m2s\u001b[0m 2s/step - loss: 7.1301e-05\n",
            "Epoch 66/100\n",
            "\u001b[1m1/1\u001b[0m \u001b[32m━━━━━━━━━━━━━━━━━━━━\u001b[0m\u001b[37m\u001b[0m \u001b[1m3s\u001b[0m 3s/step - loss: 3.1060e-04\n",
            "Epoch 67/100\n",
            "\u001b[1m1/1\u001b[0m \u001b[32m━━━━━━━━━━━━━━━━━━━━\u001b[0m\u001b[37m\u001b[0m \u001b[1m3s\u001b[0m 3s/step - loss: 5.1143e-04\n",
            "Epoch 68/100\n",
            "\u001b[1m1/1\u001b[0m \u001b[32m━━━━━━━━━━━━━━━━━━━━\u001b[0m\u001b[37m\u001b[0m \u001b[1m3s\u001b[0m 3s/step - loss: 4.1665e-04\n",
            "Epoch 69/100\n",
            "\u001b[1m1/1\u001b[0m \u001b[32m━━━━━━━━━━━━━━━━━━━━\u001b[0m\u001b[37m\u001b[0m \u001b[1m3s\u001b[0m 3s/step - loss: 1.4576e-04\n",
            "Epoch 70/100\n",
            "\u001b[1m1/1\u001b[0m \u001b[32m━━━━━━━━━━━━━━━━━━━━\u001b[0m\u001b[37m\u001b[0m \u001b[1m3s\u001b[0m 3s/step - loss: 1.0022e-05\n",
            "Epoch 71/100\n",
            "\u001b[1m1/1\u001b[0m \u001b[32m━━━━━━━━━━━━━━━━━━━━\u001b[0m\u001b[37m\u001b[0m \u001b[1m2s\u001b[0m 2s/step - loss: 1.1674e-04\n",
            "Epoch 72/100\n",
            "\u001b[1m1/1\u001b[0m \u001b[32m━━━━━━━━━━━━━━━━━━━━\u001b[0m\u001b[37m\u001b[0m \u001b[1m2s\u001b[0m 2s/step - loss: 2.7538e-04\n",
            "Epoch 73/100\n",
            "\u001b[1m1/1\u001b[0m \u001b[32m━━━━━━━━━━━━━━━━━━━━\u001b[0m\u001b[37m\u001b[0m \u001b[1m2s\u001b[0m 2s/step - loss: 2.7722e-04\n",
            "Epoch 74/100\n",
            "\u001b[1m1/1\u001b[0m \u001b[32m━━━━━━━━━━━━━━━━━━━━\u001b[0m\u001b[37m\u001b[0m \u001b[1m2s\u001b[0m 2s/step - loss: 1.4093e-04\n",
            "Epoch 75/100\n",
            "\u001b[1m1/1\u001b[0m \u001b[32m━━━━━━━━━━━━━━━━━━━━\u001b[0m\u001b[37m\u001b[0m \u001b[1m3s\u001b[0m 3s/step - loss: 3.6931e-05\n",
            "Epoch 76/100\n",
            "\u001b[1m1/1\u001b[0m \u001b[32m━━━━━━━━━━━━━━━━━━━━\u001b[0m\u001b[37m\u001b[0m \u001b[1m2s\u001b[0m 2s/step - loss: 5.4659e-05\n",
            "Epoch 77/100\n",
            "\u001b[1m1/1\u001b[0m \u001b[32m━━━━━━━━━━━━━━━━━━━━\u001b[0m\u001b[37m\u001b[0m \u001b[1m3s\u001b[0m 3s/step - loss: 1.2771e-04\n",
            "Epoch 78/100\n",
            "\u001b[1m1/1\u001b[0m \u001b[32m━━━━━━━━━━━━━━━━━━━━\u001b[0m\u001b[37m\u001b[0m \u001b[1m2s\u001b[0m 2s/step - loss: 1.5401e-04\n",
            "Epoch 79/100\n",
            "\u001b[1m1/1\u001b[0m \u001b[32m━━━━━━━━━━━━━━━━━━━━\u001b[0m\u001b[37m\u001b[0m \u001b[1m3s\u001b[0m 3s/step - loss: 1.1397e-04\n",
            "Epoch 80/100\n",
            "\u001b[1m1/1\u001b[0m \u001b[32m━━━━━━━━━━━━━━━━━━━━\u001b[0m\u001b[37m\u001b[0m \u001b[1m2s\u001b[0m 2s/step - loss: 5.9135e-05\n",
            "Epoch 81/100\n",
            "\u001b[1m1/1\u001b[0m \u001b[32m━━━━━━━━━━━━━━━━━━━━\u001b[0m\u001b[37m\u001b[0m \u001b[1m2s\u001b[0m 2s/step - loss: 3.7022e-05\n",
            "Epoch 82/100\n",
            "\u001b[1m1/1\u001b[0m \u001b[32m━━━━━━━━━━━━━━━━━━━━\u001b[0m\u001b[37m\u001b[0m \u001b[1m3s\u001b[0m 3s/step - loss: 5.2438e-05\n",
            "Epoch 83/100\n",
            "\u001b[1m1/1\u001b[0m \u001b[32m━━━━━━━━━━━━━━━━━━━━\u001b[0m\u001b[37m\u001b[0m \u001b[1m3s\u001b[0m 3s/step - loss: 7.8692e-05\n",
            "Epoch 84/100\n",
            "\u001b[1m1/1\u001b[0m \u001b[32m━━━━━━━━━━━━━━━━━━━━\u001b[0m\u001b[37m\u001b[0m \u001b[1m3s\u001b[0m 3s/step - loss: 8.4932e-05\n",
            "Epoch 85/100\n",
            "\u001b[1m1/1\u001b[0m \u001b[32m━━━━━━━━━━━━━━━━━━━━\u001b[0m\u001b[37m\u001b[0m \u001b[1m3s\u001b[0m 3s/step - loss: 6.0384e-05\n",
            "Epoch 86/100\n",
            "\u001b[1m1/1\u001b[0m \u001b[32m━━━━━━━━━━━━━━━━━━━━\u001b[0m\u001b[37m\u001b[0m \u001b[1m3s\u001b[0m 3s/step - loss: 2.7370e-05\n",
            "Epoch 87/100\n",
            "\u001b[1m1/1\u001b[0m \u001b[32m━━━━━━━━━━━━━━━━━━━━\u001b[0m\u001b[37m\u001b[0m \u001b[1m2s\u001b[0m 2s/step - loss: 2.0195e-05\n",
            "Epoch 88/100\n",
            "\u001b[1m1/1\u001b[0m \u001b[32m━━━━━━━━━━━━━━━━━━━━\u001b[0m\u001b[37m\u001b[0m \u001b[1m2s\u001b[0m 2s/step - loss: 4.3175e-05\n",
            "Epoch 89/100\n",
            "\u001b[1m1/1\u001b[0m \u001b[32m━━━━━━━━━━━━━━━━━━━━\u001b[0m\u001b[37m\u001b[0m \u001b[1m3s\u001b[0m 3s/step - loss: 6.1793e-05\n",
            "Epoch 90/100\n",
            "\u001b[1m1/1\u001b[0m \u001b[32m━━━━━━━━━━━━━━━━━━━━\u001b[0m\u001b[37m\u001b[0m \u001b[1m3s\u001b[0m 3s/step - loss: 4.7912e-05\n",
            "Epoch 91/100\n",
            "\u001b[1m1/1\u001b[0m \u001b[32m━━━━━━━━━━━━━━━━━━━━\u001b[0m\u001b[37m\u001b[0m \u001b[1m2s\u001b[0m 2s/step - loss: 1.8777e-05\n",
            "Epoch 92/100\n",
            "\u001b[1m1/1\u001b[0m \u001b[32m━━━━━━━━━━━━━━━━━━━━\u001b[0m\u001b[37m\u001b[0m \u001b[1m2s\u001b[0m 2s/step - loss: 1.1152e-05\n",
            "Epoch 93/100\n",
            "\u001b[1m1/1\u001b[0m \u001b[32m━━━━━━━━━━━━━━━━━━━━\u001b[0m\u001b[37m\u001b[0m \u001b[1m2s\u001b[0m 2s/step - loss: 2.9315e-05\n",
            "Epoch 94/100\n",
            "\u001b[1m1/1\u001b[0m \u001b[32m━━━━━━━━━━━━━━━━━━━━\u001b[0m\u001b[37m\u001b[0m \u001b[1m3s\u001b[0m 3s/step - loss: 4.2769e-05\n",
            "Epoch 95/100\n",
            "\u001b[1m1/1\u001b[0m \u001b[32m━━━━━━━━━━━━━━━━━━━━\u001b[0m\u001b[37m\u001b[0m \u001b[1m2s\u001b[0m 2s/step - loss: 3.2486e-05\n",
            "Epoch 96/100\n",
            "\u001b[1m1/1\u001b[0m \u001b[32m━━━━━━━━━━━━━━━━━━━━\u001b[0m\u001b[37m\u001b[0m \u001b[1m2s\u001b[0m 2s/step - loss: 1.4549e-05\n",
            "Epoch 97/100\n",
            "\u001b[1m1/1\u001b[0m \u001b[32m━━━━━━━━━━━━━━━━━━━━\u001b[0m\u001b[37m\u001b[0m \u001b[1m3s\u001b[0m 3s/step - loss: 1.1620e-05\n",
            "Epoch 98/100\n",
            "\u001b[1m1/1\u001b[0m \u001b[32m━━━━━━━━━━━━━━━━━━━━\u001b[0m\u001b[37m\u001b[0m \u001b[1m3s\u001b[0m 3s/step - loss: 2.1984e-05\n",
            "Epoch 99/100\n",
            "\u001b[1m1/1\u001b[0m \u001b[32m━━━━━━━━━━━━━━━━━━━━\u001b[0m\u001b[37m\u001b[0m \u001b[1m3s\u001b[0m 3s/step - loss: 2.7817e-05\n",
            "Epoch 100/100\n",
            "\u001b[1m1/1\u001b[0m \u001b[32m━━━━━━━━━━━━━━━━━━━━\u001b[0m\u001b[37m\u001b[0m \u001b[1m3s\u001b[0m 3s/step - loss: 2.2095e-05\n"
          ]
        }
      ]
    },
    {
      "cell_type": "code",
      "source": [
        "model.predict(X_train_tensor)"
      ],
      "metadata": {
        "id": "H57eOT_6ijQi",
        "colab": {
          "base_uri": "https://localhost:8080/"
        },
        "outputId": "5dde24a4-c351-46fa-acfa-2bb444d55d3b"
      },
      "execution_count": null,
      "outputs": [
        {
          "output_type": "stream",
          "name": "stdout",
          "text": [
            "\u001b[1m1/1\u001b[0m \u001b[32m━━━━━━━━━━━━━━━━━━━━\u001b[0m\u001b[37m\u001b[0m \u001b[1m3s\u001b[0m 3s/step\n"
          ]
        },
        {
          "output_type": "execute_result",
          "data": {
            "text/plain": [
              "array([[[0.80338365, 0.4980968 , 0.5531991 ],\n",
              "        [0.80338436, 0.49809706, 0.5531999 ],\n",
              "        [0.8033865 , 0.49809662, 0.5532011 ],\n",
              "        ...,\n",
              "        [0.8033829 , 0.49809754, 0.5532034 ],\n",
              "        [0.8033828 , 0.49809703, 0.5532036 ],\n",
              "        [0.8033834 , 0.49809644, 0.55320436]],\n",
              "\n",
              "       [[0.8033835 , 0.49809706, 0.553199  ],\n",
              "        [0.8033844 , 0.4980966 , 0.55320007],\n",
              "        [0.80338585, 0.49809685, 0.5532008 ],\n",
              "        ...,\n",
              "        [0.80338275, 0.49809718, 0.55320334],\n",
              "        [0.80338234, 0.49809667, 0.5532034 ],\n",
              "        [0.80338335, 0.49809662, 0.5532042 ]],\n",
              "\n",
              "       [[0.8033836 , 0.4980973 , 0.5531991 ],\n",
              "        [0.8033844 , 0.49809673, 0.5532002 ],\n",
              "        [0.8033859 , 0.49809662, 0.5532006 ],\n",
              "        ...,\n",
              "        [0.8033831 , 0.4980974 , 0.55320376],\n",
              "        [0.80338305, 0.49809667, 0.55320364],\n",
              "        [0.8033828 , 0.4980965 , 0.5532042 ]],\n",
              "\n",
              "       [[0.8033831 , 0.49809706, 0.5531993 ],\n",
              "        [0.8033847 , 0.49809676, 0.5531998 ],\n",
              "        [0.803386  , 0.49809673, 0.5532008 ],\n",
              "        ...,\n",
              "        [0.80338335, 0.4980974 , 0.5532033 ],\n",
              "        [0.8033825 , 0.49809697, 0.5532035 ],\n",
              "        [0.8033834 , 0.49809688, 0.55320406]],\n",
              "\n",
              "       [[0.8033837 , 0.49809715, 0.5531992 ],\n",
              "        [0.8033845 , 0.49809703, 0.5532001 ],\n",
              "        [0.80338603, 0.49809688, 0.553201  ],\n",
              "        ...,\n",
              "        [0.8033833 , 0.4980973 , 0.5532036 ],\n",
              "        [0.80338246, 0.4980967 , 0.5532037 ],\n",
              "        [0.80338323, 0.49809647, 0.55320454]]], dtype=float32)"
            ]
          },
          "metadata": {},
          "execution_count": 99
        }
      ]
    },
    {
      "cell_type": "code",
      "source": [
        "yo=X_train_tensor[0,:,:]"
      ],
      "metadata": {
        "id": "Tu-CpQnSlHoT"
      },
      "execution_count": null,
      "outputs": []
    },
    {
      "cell_type": "code",
      "source": [
        "yo.shape"
      ],
      "metadata": {
        "colab": {
          "base_uri": "https://localhost:8080/"
        },
        "id": "zxbLu1h9lHq5",
        "outputId": "05bdf858-d129-4e3d-f49e-49c6fb6b1899"
      },
      "execution_count": null,
      "outputs": [
        {
          "output_type": "execute_result",
          "data": {
            "text/plain": [
              "TensorShape([3000, 3])"
            ]
          },
          "metadata": {},
          "execution_count": 101
        }
      ]
    },
    {
      "cell_type": "code",
      "source": [
        "yo = tf.expand_dims(X_train_tensor[0, :, :], axis=0)\n",
        "\n",
        "print(yo.shape)  # Should be (1, n_spatial_points, 3)"
      ],
      "metadata": {
        "colab": {
          "base_uri": "https://localhost:8080/"
        },
        "id": "px5XTvOtlHuU",
        "outputId": "d3dc75ff-3c9b-43a2-fb4f-bf9b999e54b6"
      },
      "execution_count": null,
      "outputs": [
        {
          "output_type": "stream",
          "name": "stdout",
          "text": [
            "(1, 3000, 3)\n"
          ]
        }
      ]
    },
    {
      "cell_type": "code",
      "source": [
        "predictions=model.predict(yo)\n",
        "predictions,predictions.shape"
      ],
      "metadata": {
        "colab": {
          "base_uri": "https://localhost:8080/"
        },
        "id": "WN5jcYPZlH1_",
        "outputId": "c2cde5ef-3895-43cc-b25c-267aedae8ee2"
      },
      "execution_count": null,
      "outputs": [
        {
          "output_type": "stream",
          "name": "stdout",
          "text": [
            "\u001b[1m1/1\u001b[0m \u001b[32m━━━━━━━━━━━━━━━━━━━━\u001b[0m\u001b[37m\u001b[0m \u001b[1m3s\u001b[0m 3s/step\n"
          ]
        },
        {
          "output_type": "execute_result",
          "data": {
            "text/plain": [
              "(array([[[0.8033837 , 0.49809727, 0.5531993 ],\n",
              "         [0.8033844 , 0.49809694, 0.5532002 ],\n",
              "         [0.8033857 , 0.4980968 , 0.55320066],\n",
              "         ...,\n",
              "         [0.80338323, 0.49809772, 0.5532035 ],\n",
              "         [0.80338264, 0.49809712, 0.5532038 ],\n",
              "         [0.8033828 , 0.49809626, 0.5532042 ]]], dtype=float32),\n",
              " (1, 3000, 3))"
            ]
          },
          "metadata": {},
          "execution_count": 103
        }
      ]
    },
    {
      "cell_type": "code",
      "source": [
        "u_pred, v_pred, p_pred = predictions[0,:, 0], predictions[0,:, 1], predictions[0,:, 2]"
      ],
      "metadata": {
        "id": "BaNqboyAOZEC"
      },
      "execution_count": null,
      "outputs": []
    },
    {
      "cell_type": "code",
      "source": [
        "u_pred.shape"
      ],
      "metadata": {
        "colab": {
          "base_uri": "https://localhost:8080/"
        },
        "id": "AIH2xs4KOZGs",
        "outputId": "f3f3bd05-df6e-4d45-9e32-bdde87d72e4a"
      },
      "execution_count": null,
      "outputs": [
        {
          "output_type": "execute_result",
          "data": {
            "text/plain": [
              "(3000,)"
            ]
          },
          "metadata": {},
          "execution_count": 106
        }
      ]
    },
    {
      "cell_type": "code",
      "source": [
        "import pandas as pd\n",
        "import matplotlib.pyplot as plt\n",
        "import numpy as np"
      ],
      "metadata": {
        "id": "OhlX4YEuOZJv"
      },
      "execution_count": null,
      "outputs": []
    },
    {
      "cell_type": "code",
      "source": [
        "def plot_color_map(x, y, value, title, color_map='viridis'):\n",
        "        plt.figure(figsize=(8, 6))\n",
        "        scatter = plt.scatter(x, y, c=value, cmap=color_map, s=10)\n",
        "        plt.colorbar(scatter, label=title)\n",
        "        plt.xlabel(\"X Coordinate\")\n",
        "        plt.ylabel(\"Y Coordinate\")\n",
        "        plt.title(f\"value at t = 252.999\")\n",
        "        plt.grid(True)\n",
        "        plt.show()"
      ],
      "metadata": {
        "id": "w7KyCLFgOZMO"
      },
      "execution_count": null,
      "outputs": []
    },
    {
      "cell_type": "code",
      "source": [
        "filtered_data=df[df['totime']==252.999]"
      ],
      "metadata": {
        "id": "XU0XorWcOZO5"
      },
      "execution_count": null,
      "outputs": []
    },
    {
      "cell_type": "code",
      "source": [
        "x = filtered_data['x'][:3000]\n",
        "y = filtered_data['y'][:3000]\n",
        "p_actual=filtered_data['p'][:3000]\n",
        "u_actual=filtered_data['u'][:3000]\n"
      ],
      "metadata": {
        "id": "5gMbCihdmjtw"
      },
      "execution_count": null,
      "outputs": []
    },
    {
      "cell_type": "code",
      "source": [
        "x.shape,u_pred.shape,y.shape,p_actual.shape"
      ],
      "metadata": {
        "colab": {
          "base_uri": "https://localhost:8080/"
        },
        "id": "3GDx2I6JmjxS",
        "outputId": "518bcb3a-0edf-46a0-8b18-c3f57fd44494"
      },
      "execution_count": null,
      "outputs": [
        {
          "output_type": "execute_result",
          "data": {
            "text/plain": [
              "((3000,), (3000,), (3000,), (3000,))"
            ]
          },
          "metadata": {},
          "execution_count": 122
        }
      ]
    },
    {
      "cell_type": "code",
      "source": [
        "assert p_pred.max() <= 1 and p_pred.min() >= 0, \"p_pred is not scaled correctly!\"\n",
        "assert u_pred.max() <= 1 and u_pred.min() >= 0, \"u_pred is not scaled correctly!\"\n"
      ],
      "metadata": {
        "id": "w8vZfz3KssTQ"
      },
      "execution_count": null,
      "outputs": []
    },
    {
      "cell_type": "code",
      "source": [
        "p_pred"
      ],
      "metadata": {
        "colab": {
          "base_uri": "https://localhost:8080/"
        },
        "id": "Ik5crYOx5CZ5",
        "outputId": "f29f9844-77e9-4562-d4e6-2f4b28445f20"
      },
      "execution_count": null,
      "outputs": [
        {
          "output_type": "execute_result",
          "data": {
            "text/plain": [
              "array([0.5531993 , 0.5532002 , 0.55320066, ..., 0.5532035 , 0.5532038 ,\n",
              "       0.5532042 ], dtype=float32)"
            ]
          },
          "metadata": {},
          "execution_count": 124
        }
      ]
    },
    {
      "cell_type": "code",
      "source": [
        "u_pred"
      ],
      "metadata": {
        "colab": {
          "base_uri": "https://localhost:8080/"
        },
        "id": "wY9qzogJ54RB",
        "outputId": "4ca1ab7e-cf0f-4a29-c9cd-1283921c1ff3"
      },
      "execution_count": null,
      "outputs": [
        {
          "output_type": "execute_result",
          "data": {
            "text/plain": [
              "array([0.8033837 , 0.8033844 , 0.8033857 , ..., 0.80338323, 0.80338264,\n",
              "       0.8033828 ], dtype=float32)"
            ]
          },
          "metadata": {},
          "execution_count": 125
        }
      ]
    },
    {
      "cell_type": "code",
      "source": [
        "fig, ax = plt.subplots(2, 1)\n",
        "# Assuming `x`, `y`, and `p_pred` are the x-coordinates, y-coordinates, and predicted pressure values\n",
        "cntr0 = ax[0].tricontourf(x, y, p_pred, levels=80, cmap=\"rainbow\")\n",
        "\n",
        "cb0 = plt.colorbar(cntr0, ax=ax[0])\n",
        "cntr1 = ax[1].tricontourf(x, y, u_pred, levels=80, cmap=\"rainbow\")\n",
        "cb1 = plt.colorbar(cntr1, ax=ax[1])\n",
        "ax[0].set_title(\"p-pred \" + \"(t=\" + str(t) + \")\", fontsize=9.5)\n",
        "ax[0].axis(\"scaled\")\n",
        "ax[0].set_xlabel(\"X\", fontsize=7.5)\n",
        "ax[0].set_ylabel(\"Y\", fontsize=7.5)\n",
        "ax[1].set_title(\"u-pred \" + \"(t=\" + str(t) + \")\", fontsize=9.5)\n",
        "ax[1].axis(\"scaled\")\n",
        "ax[1].set_xlabel(\"X\", fontsize=7.5)\n",
        "ax[1].set_ylabel(\"Y\", fontsize=7.5)\n",
        "fig.tight_layout()\n",
        "plt.show()"
      ],
      "metadata": {
        "id": "i9vmgkSqmGmU",
        "colab": {
          "base_uri": "https://localhost:8080/",
          "height": 487
        },
        "outputId": "c0ecbf0c-660e-434f-c03f-1288d8ff6572"
      },
      "execution_count": null,
      "outputs": [
        {
          "output_type": "display_data",
          "data": {
            "text/plain": [
              "<Figure size 640x480 with 4 Axes>"
            ],
            "image/png": "[encoded data removed]"
          },
          "metadata": {}
        }
      ]
    },
    {
      "cell_type": "code",
      "source": [],
      "metadata": {
        "id": "aUzYd9h_mG2U"
      },
      "execution_count": null,
      "outputs": []
    },
    {
      "cell_type": "code",
      "source": [],
      "metadata": {
        "id": "ynw5vNM7mG5o"
      },
      "execution_count": null,
      "outputs": []
    },
    {
      "cell_type": "code",
      "source": [],
      "metadata": {
        "id": "yH1AUnynOZT_"
      },
      "execution_count": null,
      "outputs": []
    }
  ]
}